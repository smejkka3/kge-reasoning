{
 "cells": [
  {
   "cell_type": "code",
   "execution_count": 1,
   "metadata": {},
   "outputs": [],
   "source": [
    "import problog\n",
    "import pandas as pd\n",
    "\n",
    "from problog.program import PrologString\n",
    "from problog.core import ProbLog\n",
    "from problog import get_evaluatable\n",
    "from problog.logic import Var, Term\n",
    "from problog.program import SimpleProgram\n",
    "\n",
    "TRIPLE = Term('triple')\n",
    "\n",
    "def reasoner_rules(triples, relations):\n",
    "\n",
    "    query = Term('query')\n",
    "\n",
    "    for key, value in relations.items():\n",
    "        if value == 'subclass':\n",
    "            subclass = Term(str(key))\n",
    "        elif value == 'type':\n",
    "            type_ = Term(str(key))\n",
    "        elif value == 'domain':\n",
    "            domain_ = Term(str(key))\n",
    "        elif value == 'range':\n",
    "            range_ = Term(str(key))\n",
    "        elif value == 'subproperty':\n",
    "            subproperty = Term(str(key))\n",
    "        else:\n",
    "            pass\n",
    "\n",
    "    C, C3, C2, C1, X, Y, Z, R, R1, R2, R3 = Var('C'), Var('C3'), Var('C2'), Var('C1'), Var('X'), Var('Y'), Var('Z'), Var('R'), \\\n",
    "                                            Var('R1'), Var('R2'), Var('R3')\n",
    "    rdfs2 = TRIPLE(X, type_, C) << ( TRIPLE(R, domain_, C) & TRIPLE(X, R, Y) )\n",
    "    rdfs3 = TRIPLE(Y, type_, C) << ( TRIPLE(R, range_, C) & TRIPLE(X, R, Y) )\n",
    "    rdfs5 = TRIPLE(R1, subproperty, R3) << ( TRIPLE(R1, subproperty, R2) & TRIPLE(R2, subproperty, R2) )\n",
    "    rdfs7 = TRIPLE(X, R2, Y) << ( TRIPLE(R1, subproperty, R2) & TRIPLE(X, R1, Y) )\n",
    "    rdfs9 = TRIPLE(X, type_, C2) << ( TRIPLE(C1, subclass, C2) & TRIPLE(X, type_, C1) )\n",
    "    rdfs11 = TRIPLE(C1, subclass, C3) << ( TRIPLE(C1, subclass, C2) & TRIPLE(C2, subclass, C3) )\n",
    "\n",
    "    p = SimpleProgram()\n",
    "\n",
    "    for t in triples:\n",
    "        p += t \n",
    "\n",
    "    p += rdfs2\n",
    "    p += rdfs3\n",
    "    p += rdfs5\n",
    "    p += rdfs7\n",
    "    p += rdfs9\n",
    "    p += rdfs11\n",
    "\n",
    "    p += query(TRIPLE(X, type_, C))\n",
    "    p += query(TRIPLE(Y, type_, C))\n",
    "    p += query(TRIPLE(R1, subproperty, R3))\n",
    "    p += query(TRIPLE(X, R2, Y))\n",
    "    p += query(TRIPLE(X, type_, C2))\n",
    "    p += query(TRIPLE(C1, subclass, C3))\n",
    "\n",
    "    result = get_evaluatable().create_from(p).evaluate()\n",
    "    for it in result.items() :\n",
    "        print ('%s : %s' % (it))"
   ]
  },
  {
   "cell_type": "code",
   "execution_count": 2,
   "metadata": {},
   "outputs": [],
   "source": [
    "def _read_triple(file_path):\n",
    "    triples = []\n",
    "    with open(file_path) as fin:\n",
    "        for line in fin:\n",
    "            h, r, t = line.strip().split('\\t')\n",
    "            triples.append(TRIPLE(Term(h), Term(r), Term(t),p=1.0))\n",
    "    return triples\n"
   ]
  },
  {
   "cell_type": "code",
   "execution_count": 3,
   "metadata": {},
   "outputs": [],
   "source": [
    "def _read_relations(file_path):\n",
    "    rel_dict = {}\n",
    "    with open(file_path) as fin:\n",
    "        for line in fin:    \n",
    "            k,v=line.split(sep=None,maxsplit=1)\n",
    "            rel_dict[k]=v.rstrip()\n",
    "    return rel_dict\n"
   ]
  },
  {
   "cell_type": "code",
   "execution_count": 4,
   "metadata": {},
   "outputs": [
    {
     "name": "stdout",
     "output_type": "stream",
     "text": [
      "[1.0::triple(0,0,1), 1.0::triple(1,0,2), 1.0::triple(3,1,4), 1.0::triple(3,2,0), 1.0::triple(5,3,6), 1.0::triple(5,4,6), 1.0::triple(7,5,8), 1.0::triple(9,6,10)]\n",
      "{'0': 'subclass', '1': 'containedInPlace', '2': 'type', '3': 'domain', '4': 'range', '5': 'subproperty', '6': 'affiliation'}\n",
      "triple(7,5,8) : 1.0\n",
      "triple(8,2,6) : 1.0\n",
      "triple(5,4,6) : 1.0\n",
      "triple(7,2,6) : 1.0\n",
      "triple(5,3,6) : 1.0\n",
      "triple(0,0,1) : 1.0\n",
      "triple(1,0,2) : 1.0\n",
      "triple(0,0,2) : 1.0\n",
      "triple(3,2,0) : 1.0\n",
      "triple(3,2,1) : 1.0\n",
      "triple(3,2,2) : 1.0\n",
      "triple(3,1,4) : 1.0\n",
      "triple(9,6,10) : 1.0\n"
     ]
    }
   ],
   "source": [
    "triples = _read_triple(\"/Users/karel/Documents/Master/Thesis/Combining-Machine-Learning-with-Reasoning/github/kge-reasoning/reasoner/test/sample/train.del\")\n",
    "relations = _read_relations('/Users/karel/Documents/Master/Thesis/Combining-Machine-Learning-with-Reasoning/github/kge-reasoning/reasoner/test/sample/relation_ids.del')\n",
    "print(triples)\n",
    "print(relations)\n",
    "reasoner_rules(triples, relations)  "
   ]
  },
  {
   "cell_type": "code",
   "execution_count": null,
   "metadata": {},
   "outputs": [],
   "source": []
  }
 ],
 "metadata": {
  "kernelspec": {
   "display_name": "Python 3.7.4 ('base')",
   "language": "python",
   "name": "python3"
  },
  "language_info": {
   "codemirror_mode": {
    "name": "ipython",
    "version": 3
   },
   "file_extension": ".py",
   "mimetype": "text/x-python",
   "name": "python",
   "nbconvert_exporter": "python",
   "pygments_lexer": "ipython3",
   "version": "3.7.4"
  },
  "orig_nbformat": 4,
  "vscode": {
   "interpreter": {
    "hash": "6a5bb34bffb12c49171c6b9bf7f67eeb6f0b169a0a68257c4a256d0a5c373a53"
   }
  }
 },
 "nbformat": 4,
 "nbformat_minor": 2
}
