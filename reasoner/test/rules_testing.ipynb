{
 "cells": [
  {
   "cell_type": "code",
   "execution_count": 64,
   "metadata": {},
   "outputs": [
    {
     "name": "stdout",
     "output_type": "stream",
     "text": [
      "triple(steakhouse,0,restaurant) : 1.0\n",
      "triple(restaurant,0,foodEstablishment) : 1.0\n",
      "triple(steakhouse,0,foodEstablishment) : 1.0\n",
      "triple(old_homestead_steakhouse,1,steakhouse) : 1.0\n",
      "triple(old_homestead_steakhouse,1,restaurant) : 1.0\n",
      "triple(old_homestead_steakhouse,1,foodEstablishment) : 1.0\n",
      "triple(old_homestead_steakhouse,1,place) : 1.0\n",
      "triple(chelsea_manhattan,1,place) : 1.0\n"
     ]
    }
   ],
   "source": [
    "import problog\n",
    "import pandas as pd\n",
    "\n",
    "from problog.program import PrologString\n",
    "from problog.core import ProbLog\n",
    "from problog import get_evaluatable\n",
    "from problog.logic import Var, Term\n",
    "from problog.program import SimpleProgram\n",
    "\n",
    "# 0\tsubclass\n",
    "# 1\ttype\n",
    "# 2\tdomain\n",
    "# 3\trange\n",
    "# 4\tsubproperty\n",
    "# 5\taffiliation\n",
    "\n",
    "triple = Term('triple')\n",
    "subclass = Term('0')\n",
    "type_ = Term('1')\n",
    "subproperty = Term('4')\n",
    "range_ = Term('3')\n",
    "domain_ = Term('2')\n",
    "query = Term('query')\n",
    "\n",
    "C = Var('C')\n",
    "C3 = Var('C3')\n",
    "C2 = Var('C2')\n",
    "C1 = Var('C1')\n",
    "X = Var('X')\n",
    "Y = Var('Y')\n",
    "Z = Var('Z')\n",
    "R = Var('R')\n",
    "R1 = Var('R1')\n",
    "R2 = Var('R2')\n",
    "R3 = Var('R3')\n",
    "\n",
    "p = SimpleProgram()\n",
    "\n",
    "p += triple(Term('steakhouse'),subclass,Term('restaurant')) \n",
    "p += triple(Term('restaurant'),subclass,Term('foodEstablishment'))\n",
    "p += triple(Term('old_homestead_steakhouse'),type_,Term('steakhouse'))\n",
    "p += triple(Term('old_homestead_steakhouse'),Term('containedInPlace'),Term('chelsea_manhattan'))\n",
    "p += triple(Term('containedInPlace'),domain_,Term('place'))\n",
    "p += triple(Term('containedInPlace'),range_,Term('place'))\n",
    "\n",
    "\n",
    "p += triple(C1, subclass, C3) << ( triple(C1, subclass, C2) & triple(C2, subclass, C3) )\n",
    "p += triple(X, type_, C2) << ( triple(C1, subclass, C2) & triple(X, type_, C1) )\n",
    "p += triple(X, type_, C) << ( triple(R, domain_, C) & triple(X, R, Y) )\n",
    "p += triple(Y, type_, C) << ( triple(R, range_, C) & triple(X, R, Y) )\n",
    "p += triple(X, R2, Y) << ( triple(R1, subproperty, R2) & triple(X, R1, Y) )\n",
    "\n",
    "p += query(triple(C1, subclass, C3))\n",
    "p += query(triple(X, type_, C2))\n",
    "p += query(triple(X, type_, C))\n",
    "p += query(triple(Y, type_, C))\n",
    "# p += query(triple(X_t, R2, Y_t))\n",
    "\n",
    "result = get_evaluatable().create_from(p).evaluate()\n",
    "for it in result.items() :\n",
    "    print ('%s : %s' % (it))"
   ]
  },
  {
   "cell_type": "code",
   "execution_count": 31,
   "metadata": {},
   "outputs": [],
   "source": [
    "def _read_triple(file_path):\n",
    "    triples = []\n",
    "    with open(file_path) as fin:\n",
    "        for line in fin:\n",
    "            h, r, t = line.strip().split('\\t')\n",
    "            triples.append(triple(Term(h), Term(r), Term(t)))\n",
    "            # triples.append((h, r, t))\n",
    "    print(triples)  "
   ]
  },
  {
   "cell_type": "code",
   "execution_count": 54,
   "metadata": {},
   "outputs": [
    {
     "name": "stdout",
     "output_type": "stream",
     "text": [
      "[triple(steakhouse,subclass,restaurant), triple(restaurant,subclass,foodEstablishment), triple(old_homestead_steakhouse,containedInPlace,chelsea_manhattan), triple(old_homestead_steakhouse,type,steakhouse), triple(containedInPlace,domain,place), triple(containedInPlace,range,place), triple(affiliation,subproperty,memberOf), triple(valentyn_symonenko,affiliation,kyiv_national_university_of_trade_and_economics)]\n"
     ]
    }
   ],
   "source": [
    "_read_triple(\"/home/karel/Documents/Thesis/reasoner/test/sample/train.txt\")"
   ]
  },
  {
   "cell_type": "code",
   "execution_count": null,
   "metadata": {},
   "outputs": [],
   "source": []
  }
 ],
 "metadata": {
  "kernelspec": {
   "display_name": "Python 3.8.10 64-bit",
   "language": "python",
   "name": "python3"
  },
  "language_info": {
   "codemirror_mode": {
    "name": "ipython",
    "version": 3
   },
   "file_extension": ".py",
   "mimetype": "text/x-python",
   "name": "python",
   "nbconvert_exporter": "python",
   "pygments_lexer": "ipython3",
   "version": "3.8.10"
  },
  "orig_nbformat": 4,
  "vscode": {
   "interpreter": {
    "hash": "916dbcbb3f70747c44a77c7bcd40155683ae19c65e1c03b4aa3499c5328201f1"
   }
  }
 },
 "nbformat": 4,
 "nbformat_minor": 2
}
